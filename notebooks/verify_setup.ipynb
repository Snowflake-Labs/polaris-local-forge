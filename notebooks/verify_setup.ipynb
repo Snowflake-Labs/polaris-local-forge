{
 "cells": [
  {
   "cell_type": "markdown",
   "metadata": {},
   "source": [
    "# Verify Polaris Setup"
   ]
  },
  {
   "cell_type": "code",
   "execution_count": 77,
   "metadata": {},
   "outputs": [],
   "source": [
    "import os\n",
    "import traceback\n",
    "from pathlib import Path\n",
    "\n",
    "import pyarrow as pa\n",
    "from pyiceberg.catalog.rest import RestCatalog\n",
    "from pyiceberg.exceptions import NamespaceAlreadyExistsError, TableAlreadyExistsError\n",
    "from pyiceberg.types import StringType"
   ]
  },
  {
   "cell_type": "markdown",
   "metadata": {},
   "source": [
    "## Retrieve Principal Credentials"
   ]
  },
  {
   "cell_type": "code",
   "execution_count": 78,
   "metadata": {},
   "outputs": [],
   "source": [
    "\n",
    "principal_creds = Path(os.getcwd()).parent.joinpath(\"work\", \"principal.txt\")\n",
    "with open(principal_creds, \"r\") as file:\n",
    "    realm, client_id, client_secret = file.readline().split(\",\")"
   ]
  },
  {
   "cell_type": "markdown",
   "metadata": {},
   "source": [
    "## Define Variables"
   ]
  },
  {
   "cell_type": "code",
   "execution_count": 79,
   "metadata": {},
   "outputs": [],
   "source": [
    "namespace = \"demo_db\"\n",
    "table_name = \"fruits\"\n",
    "# IMPORTANT!!! /api/catalog or get the prefix from your setup\n",
    "CATALOG_URI = \"http://localhost:18181/api/catalog\"\n",
    "catalog_name = \"polardb\""
   ]
  },
  {
   "cell_type": "code",
   "execution_count": 80,
   "metadata": {},
   "outputs": [
    {
     "name": "stderr",
     "output_type": "stream",
     "text": [
      "/Users/ksampath/git/kameshsampath/polaris-local-forge/.venv/lib/python3.12/site-packages/pyiceberg/utils/deprecated.py:54: DeprecationWarning: Deprecated in 0.8.0, will be removed in 1.0.0. Iceberg REST client is missing the OAuth2 server URI configuration and defaults to http://localhost:18181/api/catalogoauth/tokens. This automatic fallback will be removed in a future Iceberg release.It is recommended to configure the OAuth2 endpoint using the 'oauth2-server-uri'property to be prepared. This warning will disappear if the OAuth2endpoint is explicitly configured. See https://github.com/apache/iceberg/issues/10537\n",
      "  _deprecation_warning(deprecation_notice(deprecated_in, removed_in, help_message))\n"
     ]
    }
   ],
   "source": [
    "catalog = RestCatalog(\n",
    "    name=catalog_name,\n",
    "    **{\n",
    "        \"uri\": CATALOG_URI,\n",
    "        \"credential\": f\"{client_id}:{client_secret}\",\n",
    "        \"header.content-type\": \"application/vnd.api+json\",\n",
    "        \"header.X-Iceberg-Access-Delegation\": \"vended-credentials\",\n",
    "        \"header.Polaris-Realm\": realm,\n",
    "        \"warehouse\": catalog_name,\n",
    "        \"scope\": \"PRINCIPAL_ROLE:ALL\",\n",
    "    },\n",
    ")"
   ]
  },
  {
   "cell_type": "markdown",
   "metadata": {},
   "source": [
    "## Create Namespace"
   ]
  },
  {
   "cell_type": "code",
   "execution_count": 81,
   "metadata": {},
   "outputs": [],
   "source": [
    "try:\n",
    "    catalog.create_namespace(namespace)\n",
    "except NamespaceAlreadyExistsError:\n",
    "    print(f\"Namespace '{namespace}' already exists\")\n",
    "except Exception as e:\n",
    "    print(e)"
   ]
  },
  {
   "cell_type": "markdown",
   "metadata": {},
   "source": [
    "## Create Table"
   ]
  },
  {
   "cell_type": "code",
   "execution_count": 82,
   "metadata": {},
   "outputs": [
    {
     "name": "stdout",
     "output_type": "stream",
     "text": [
      "fruits(\n",
      "  1: id: required long,\n",
      "  2: name: optional string\n",
      "),\n",
      "partition by: [],\n",
      "sort order: [],\n",
      "snapshot: null\n"
     ]
    }
   ],
   "source": [
    "_schema = pa.schema(\n",
    "    [\n",
    "        pa.field(\"id\", pa.int64(), nullable=False),\n",
    "        pa.field(\"name\", pa.string(), nullable=True),\n",
    "    ]\n",
    ")\n",
    "try:\n",
    "    new_tbl = catalog.create_table(\n",
    "        identifier=f\"{namespace}.{table_name}\",\n",
    "        schema=_schema,\n",
    "    )\n",
    "    print(new_tbl)\n",
    "except TableAlreadyExistsError:\n",
    "    print(f\"Table '{table_name}' already exists\")\n",
    "except Exception as e:\n",
    "    print(e)"
   ]
  },
  {
   "cell_type": "markdown",
   "metadata": {},
   "source": [
    "## Load Table"
   ]
  },
  {
   "cell_type": "code",
   "execution_count": 83,
   "metadata": {},
   "outputs": [
    {
     "name": "stdout",
     "output_type": "stream",
     "text": [
      "Empty DataFrame\n",
      "Columns: [id, name]\n",
      "Index: []\n"
     ]
    }
   ],
   "source": [
    "try:\n",
    "    table = catalog.load_table(f\"{namespace}.{table_name}\")\n",
    "    df = table.scan().to_pandas()\n",
    "    print(df.head())\n",
    "except Exception as e:\n",
    "    print(e)"
   ]
  },
  {
   "cell_type": "markdown",
   "metadata": {},
   "source": [
    "## Insert Data"
   ]
  },
  {
   "cell_type": "code",
   "execution_count": 84,
   "metadata": {},
   "outputs": [],
   "source": [
    "try:\n",
    "    data = pa.Table.from_pylist(\n",
    "        [\n",
    "            {\"id\": 1, \"name\": \"mango\"},\n",
    "            {\"id\": 2, \"name\": \"banana\"},\n",
    "            {\"id\": 3, \"name\": \"orange\"},\n",
    "        ],\n",
    "        schema=_schema,\n",
    "    )\n",
    "    table.append(data)\n",
    "except Exception:\n",
    "    print(traceback.format_exc())"
   ]
  },
  {
   "cell_type": "markdown",
   "metadata": {},
   "source": [
    "## Query Data"
   ]
  },
  {
   "cell_type": "code",
   "execution_count": 90,
   "metadata": {},
   "outputs": [
    {
     "data": {
      "text/html": [
       "<div>\n",
       "<style scoped>\n",
       "    .dataframe tbody tr th:only-of-type {\n",
       "        vertical-align: middle;\n",
       "    }\n",
       "\n",
       "    .dataframe tbody tr th {\n",
       "        vertical-align: top;\n",
       "    }\n",
       "\n",
       "    .dataframe thead th {\n",
       "        text-align: right;\n",
       "    }\n",
       "</style>\n",
       "<table border=\"1\" class=\"dataframe\">\n",
       "  <thead>\n",
       "    <tr style=\"text-align: right;\">\n",
       "      <th></th>\n",
       "      <th>id</th>\n",
       "      <th>name</th>\n",
       "      <th>season</th>\n",
       "    </tr>\n",
       "  </thead>\n",
       "  <tbody>\n",
       "    <tr>\n",
       "      <th>0</th>\n",
       "      <td>1</td>\n",
       "      <td>mango</td>\n",
       "      <td>summer</td>\n",
       "    </tr>\n",
       "    <tr>\n",
       "      <th>1</th>\n",
       "      <td>2</td>\n",
       "      <td>banana</td>\n",
       "      <td>all</td>\n",
       "    </tr>\n",
       "    <tr>\n",
       "      <th>2</th>\n",
       "      <td>3</td>\n",
       "      <td>orange</td>\n",
       "      <td>winter</td>\n",
       "    </tr>\n",
       "  </tbody>\n",
       "</table>\n",
       "</div>"
      ],
      "text/plain": [
       "   id    name  season\n",
       "0   1   mango  summer\n",
       "1   2  banana     all\n",
       "2   3  orange  winter"
      ]
     },
     "execution_count": 90,
     "metadata": {},
     "output_type": "execute_result"
    }
   ],
   "source": [
    "df = table.scan().to_pandas()\n",
    "df.head(10)"
   ]
  },
  {
   "cell_type": "markdown",
   "metadata": {},
   "source": [
    "## Schema Evolution"
   ]
  },
  {
   "cell_type": "code",
   "execution_count": 86,
   "metadata": {},
   "outputs": [],
   "source": [
    "\n",
    "with table.update_schema() as update:\n",
    "    update.add_column(\"season\",StringType(),doc=\"Fruit Season\")\n",
    "\n"
   ]
  },
  {
   "cell_type": "code",
   "execution_count": 87,
   "metadata": {},
   "outputs": [
    {
     "name": "stdout",
     "output_type": "stream",
     "text": [
      "fruits(\n",
      "  1: id: required long,\n",
      "  2: name: optional string,\n",
      "  3: season: optional string (Fruit Season)\n",
      "),\n",
      "partition by: [],\n",
      "sort order: [],\n",
      "snapshot: Operation.APPEND: id=8949572113130933916, schema_id=0\n"
     ]
    }
   ],
   "source": [
    "print(table)"
   ]
  },
  {
   "cell_type": "code",
   "execution_count": 89,
   "metadata": {},
   "outputs": [],
   "source": [
    "new_schema =  _schema.append( pa.field(\"season\", pa.string(), nullable=True),)\n",
    "# New data with season column\n",
    "new_table = pa.Table.from_pylist([\n",
    "    {\"id\": 1, \"name\": \"mango\",\"season\": \"summer\"},\n",
    "    {\"id\": 2, \"name\": \"banana\",\"season\": \"all\"},\n",
    "    {\"id\": 3, \"name\": \"orange\",\"season\": \"winter\"},\n",
    "   \n",
    "],schema=new_schema)\n",
    "table.overwrite(new_table)"
   ]
  }
 ],
 "metadata": {
  "kernelspec": {
   "display_name": ".venv",
   "language": "python",
   "name": "python3"
  },
  "language_info": {
   "codemirror_mode": {
    "name": "ipython",
    "version": 3
   },
   "file_extension": ".py",
   "mimetype": "text/x-python",
   "name": "python",
   "nbconvert_exporter": "python",
   "pygments_lexer": "ipython3",
   "version": "3.12.8"
  }
 },
 "nbformat": 4,
 "nbformat_minor": 2
}
